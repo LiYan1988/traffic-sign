{
 "cells": [
  {
   "cell_type": "markdown",
   "metadata": {},
   "source": [
    "# Self-Driving Car Engineer Nanodegree\n",
    "\n",
    "## Deep Learning\n",
    "\n",
    "## Project: Build a Traffic Sign Recognition Classifier\n",
    "\n",
    "In this notebook, a template is provided for you to implement your functionality in stages, which is required to successfully complete this project. If additional code is required that cannot be included in the notebook, be sure that the Python code is successfully imported and included in your submission if necessary. \n",
    "\n",
    "> **Note**: Once you have completed all of the code implementations, you need to finalize your work by exporting the iPython Notebook as an HTML document. Before exporting the notebook to html, all of the code cells need to have been run so that reviewers can see the final implementation and output. You can then export the notebook by using the menu above and navigating to  \\n\",\n",
    "    \"**File -> Download as -> HTML (.html)**. Include the finished document along with this notebook as your submission. \n",
    "\n",
    "In addition to implementing code, there is a writeup to complete. The writeup should be completed in a separate file, which can be either a markdown file or a pdf document. There is a [write up template](https://github.com/udacity/CarND-Traffic-Sign-Classifier-Project/blob/master/writeup_template.md) that can be used to guide the writing process. Completing the code template and writeup template will cover all of the [rubric points](https://review.udacity.com/#!/rubrics/481/view) for this project.\n",
    "\n",
    "The [rubric](https://review.udacity.com/#!/rubrics/481/view) contains \"Stand Out Suggestions\" for enhancing the project beyond the minimum requirements. The stand out suggestions are optional. If you decide to pursue the \"stand out suggestions\", you can include the code in this Ipython notebook and also discuss the results in the writeup file.\n",
    "\n",
    "\n",
    ">**Note:** Code and Markdown cells can be executed using the **Shift + Enter** keyboard shortcut. In addition, Markdown cells can be edited by typically double-clicking the cell to enter edit mode."
   ]
  },
  {
   "cell_type": "markdown",
   "metadata": {},
   "source": [
    "---\n",
    "## Step 0: Load The Data"
   ]
  },
  {
   "cell_type": "code",
   "execution_count": 1,
   "metadata": {
    "collapsed": true
   },
   "outputs": [],
   "source": [
    "# Load pickled data\n",
    "import pickle\n",
    "\n",
    "# TODO: Fill this in based on where you saved the training and testing data\n",
    "\n",
    "training_file = './traffic-signs-data/train.p'\n",
    "validation_file= './traffic-signs-data/valid.p'\n",
    "testing_file = './traffic-signs-data/test.p'\n",
    "\n",
    "with open(training_file, mode='rb') as f:\n",
    "    train = pickle.load(f)\n",
    "with open(validation_file, mode='rb') as f:\n",
    "    valid = pickle.load(f)\n",
    "with open(testing_file, mode='rb') as f:\n",
    "    test = pickle.load(f)\n",
    "    \n",
    "X_train, y_train = train['features'], train['labels']\n",
    "X_valid, y_valid = valid['features'], valid['labels']\n",
    "X_test, y_test = test['features'], test['labels']"
   ]
  },
  {
   "cell_type": "code",
   "execution_count": 2,
   "metadata": {},
   "outputs": [
    {
     "name": "stdout",
     "output_type": "stream",
     "text": [
      "(34799, 4)\n",
      "(34799, 32, 32, 3)\n",
      "(34799,)\n",
      "(34799, 2)\n"
     ]
    }
   ],
   "source": [
    "print(train['coords'].shape)\n",
    "print(train['features'].shape)\n",
    "print(train['labels'].shape)\n",
    "print(train['sizes'].shape)"
   ]
  },
  {
   "cell_type": "markdown",
   "metadata": {},
   "source": [
    "---\n",
    "\n",
    "## Step 1: Dataset Summary & Exploration\n",
    "\n",
    "The pickled data is a dictionary with 4 key/value pairs:\n",
    "\n",
    "- `'features'` is a 4D array containing raw pixel data of the traffic sign images, (num examples, width, height, channels).\n",
    "- `'labels'` is a 1D array containing the label/class id of the traffic sign. The file `signnames.csv` contains id -> name mappings for each id.\n",
    "- `'sizes'` is a list containing tuples, (width, height) representing the original width and height the image.\n",
    "- `'coords'` is a list containing tuples, (x1, y1, x2, y2) representing coordinates of a bounding box around the sign in the image. **THESE COORDINATES ASSUME THE ORIGINAL IMAGE. THE PICKLED DATA CONTAINS RESIZED VERSIONS (32 by 32) OF THESE IMAGES**\n",
    "\n",
    "Complete the basic data summary below. Use python, numpy and/or pandas methods to calculate the data summary rather than hard coding the results. For example, the [pandas shape method](http://pandas.pydata.org/pandas-docs/stable/generated/pandas.DataFrame.shape.html) might be useful for calculating some of the summary results. "
   ]
  },
  {
   "cell_type": "markdown",
   "metadata": {},
   "source": [
    "### Provide a Basic Summary of the Data Set Using Python, Numpy and/or Pandas"
   ]
  },
  {
   "cell_type": "code",
   "execution_count": 3,
   "metadata": {},
   "outputs": [
    {
     "name": "stdout",
     "output_type": "stream",
     "text": [
      "Number of training examples = 34799\n",
      "Number of testing examples = 12630\n",
      "Image data shape = (32, 32)\n",
      "Number of classes = 43\n"
     ]
    }
   ],
   "source": [
    "### Replace each question mark with the appropriate value. \n",
    "### Use python, pandas or numpy methods rather than hard coding the results\n",
    "\n",
    "import numpy as np\n",
    "import pandas as pd\n",
    "\n",
    "# TODO: Number of training examples\n",
    "n_train = train['features'].shape[0]\n",
    "\n",
    "# TODO: Number of validation examples\n",
    "n_validation = valid['features'].shape[0]\n",
    "\n",
    "# TODO: Number of testing examples.\n",
    "n_test = test['features'].shape[0]\n",
    "\n",
    "# TODO: What's the shape of an traffic sign image?\n",
    "image_shape = train['features'].shape[1:3]\n",
    "\n",
    "# TODO: How many unique classes/labels there are in the dataset.\n",
    "n_classes = len(np.unique(train['labels']))\n",
    "\n",
    "print(\"Number of training examples =\", n_train)\n",
    "print(\"Number of testing examples =\", n_test)\n",
    "print(\"Image data shape =\", image_shape)\n",
    "print(\"Number of classes =\", n_classes)"
   ]
  },
  {
   "cell_type": "markdown",
   "metadata": {},
   "source": [
    "### Include an exploratory visualization of the dataset"
   ]
  },
  {
   "cell_type": "markdown",
   "metadata": {},
   "source": [
    "Visualize the German Traffic Signs Dataset using the pickled file(s). This is open ended, suggestions include: plotting traffic sign images, plotting the count of each sign, etc. \n",
    "\n",
    "The [Matplotlib](http://matplotlib.org/) [examples](http://matplotlib.org/examples/index.html) and [gallery](http://matplotlib.org/gallery.html) pages are a great resource for doing visualizations in Python.\n",
    "\n",
    "**NOTE:** It's recommended you start with something simple first. If you wish to do more, come back to it after you've completed the rest of the sections. It can be interesting to look at the distribution of classes in the training, validation and test set. Is the distribution the same? Are there more examples of some classes than others?"
   ]
  },
  {
   "cell_type": "code",
   "execution_count": 4,
   "metadata": {},
   "outputs": [
    {
     "data": {
      "image/png": "[encoded data removed]",
      "text/plain": [
       "<matplotlib.figure.Figure at 0x7f131953f400>"
      ]
     },
     "metadata": {},
     "output_type": "display_data"
    }
   ],
   "source": [
    "### Data exploration visualization code goes here.\n",
    "### Feel free to use as many code cells as needed.\n",
    "import matplotlib.pyplot as plt\n",
    "# Visualizations will be shown in the notebook.\n",
    "%matplotlib inline\n",
    "\n",
    "class_id = pd.read_csv('signnames.csv', header=0, index_col=None)\n",
    "\n",
    "label_unique, label_index, label_inverse, label_counts = np.unique(train['labels'], return_index=True, \n",
    "                                                                     return_counts=True, return_inverse=True)\n",
    "# for i in range(len(label_counts)):\n",
    "#    print('{:<50s} has {:>5d} training samples.'.format(class_id.iloc[i, 1], label_counts[i]))\n",
    "#    plt.imshow(X_train[label_index[i]])\n",
    "#    plt.show()\n",
    "# print(label_index.shape)\n",
    "# print(label_inverse.shape)\n",
    "\n",
    "plt.rcdefaults()\n",
    "fig, ax = plt.subplots()\n",
    "\n",
    "# Example data\n",
    "people = ('Tom', 'Dick', 'Harry', 'Slim', 'Jim')\n",
    "y_pos = np.arange(len(people))\n",
    "performance = 3 + 10 * np.random.rand(len(people))\n",
    "error = np.random.rand(len(people))\n",
    "\n",
    "ax.barh(label_unique, label_counts, align='center',\n",
    "        color='green', ecolor='black')\n",
    "ax.set_yticks(label_unique)\n",
    "ax.set_yticklabels(label_unique)\n",
    "ax.invert_yaxis()  # labels read top-to-bottom\n",
    "ax.set_xlabel('Label counts')\n",
    "ax.set_title('Number of signs in the training set')\n",
    "\n",
    "plt.show()"
   ]
  },
  {
   "cell_type": "markdown",
   "metadata": {},
   "source": [
    "----\n",
    "\n",
    "## Step 2: Design and Test a Model Architecture\n",
    "\n",
    "Design and implement a deep learning model that learns to recognize traffic signs. Train and test your model on the [German Traffic Sign Dataset](http://benchmark.ini.rub.de/?section=gtsrb&subsection=dataset).\n",
    "\n",
    "The LeNet-5 implementation shown in the [classroom](https://classroom.udacity.com/nanodegrees/nd013/parts/fbf77062-5703-404e-b60c-95b78b2f3f9e/modules/6df7ae49-c61c-4bb2-a23e-6527e69209ec/lessons/601ae704-1035-4287-8b11-e2c2716217ad/concepts/d4aca031-508f-4e0b-b493-e7b706120f81) at the end of the CNN lesson is a solid starting point. You'll have to change the number of classes and possibly the preprocessing, but aside from that it's plug and play! \n",
    "\n",
    "With the LeNet-5 solution from the lecture, you should expect a validation set accuracy of about 0.89. To meet specifications, the validation set accuracy will need to be at least 0.93. It is possible to get an even higher accuracy, but 0.93 is the minimum for a successful project submission. \n",
    "\n",
    "There are various aspects to consider when thinking about this problem:\n",
    "\n",
    "- Neural network architecture (is the network over or underfitting?)\n",
    "- Play around preprocessing techniques (normalization, rgb to grayscale, etc)\n",
    "- Number of examples per label (some have more than others).\n",
    "- Generate fake data.\n",
    "\n",
    "Here is an example of a [published baseline model on this problem](http://yann.lecun.com/exdb/publis/pdf/sermanet-ijcnn-11.pdf). It's not required to be familiar with the approach used in the paper but, it's good practice to try to read papers like these."
   ]
  },
  {
   "cell_type": "markdown",
   "metadata": {},
   "source": [
    "### Pre-process the Data Set (normalization, grayscale, etc.)"
   ]
  },
  {
   "cell_type": "markdown",
   "metadata": {},
   "source": [
    "Minimally, the image data should be normalized so that the data has mean zero and equal variance. For image data, `(pixel - 128)/ 128` is a quick way to approximately normalize the data and can be used in this project. \n",
    "\n",
    "Other pre-processing steps are optional. You can try different techniques to see if it improves performance. \n",
    "\n",
    "Use the code cell (or multiple code cells, if necessary) to implement the first step of your project."
   ]
  },
  {
   "cell_type": "code",
   "execution_count": 8,
   "metadata": {
    "collapsed": true
   },
   "outputs": [],
   "source": [
    "### Preprocess the data here. It is required to normalize the data. Other preprocessing steps could include \n",
    "### converting to grayscale, etc.\n",
    "### Feel free to use as many code cells as needed.\n",
    "\n",
    "from sklearn.preprocessing import normalize, scale, minmax_scale\n",
    "\n",
    "X_train_normalized = (X_train.astype(np.float32)-128)/128\n",
    "X_valid_normalized = (X_valid.astype(np.float32)-128)/128\n",
    "X_test_normalized = (X_test.astype(np.float32)-128)/128"
   ]
  },
  {
   "cell_type": "code",
   "execution_count": 12,
   "metadata": {},
   "outputs": [
    {
     "data": {
      "text/plain": [
       "array([[[[-0.78125  , -0.8046875, -0.8125   ],\n",
       "         [-0.7890625, -0.8125   , -0.8203125],\n",
       "         [-0.7890625, -0.8125   , -0.828125 ],\n",
       "         ..., \n",
       "         [-0.75     , -0.78125  , -0.8125   ],\n",
       "         [-0.7578125, -0.7890625, -0.8046875],\n",
       "         [-0.7578125, -0.7890625, -0.796875 ]],\n",
       "\n",
       "        [[-0.7734375, -0.796875 , -0.8046875],\n",
       "         [-0.7890625, -0.8046875, -0.8203125],\n",
       "         [-0.7890625, -0.8046875, -0.8203125],\n",
       "         ..., \n",
       "         [-0.75     , -0.78125  , -0.8125   ],\n",
       "         [-0.7578125, -0.7890625, -0.8125   ],\n",
       "         [-0.765625 , -0.7890625, -0.8046875]],\n",
       "\n",
       "        [[-0.78125  , -0.796875 , -0.796875 ],\n",
       "         [-0.7890625, -0.8046875, -0.8203125],\n",
       "         [-0.796875 , -0.8046875, -0.8203125],\n",
       "         ..., \n",
       "         [-0.75     , -0.78125  , -0.8125   ],\n",
       "         [-0.7578125, -0.7890625, -0.8125   ],\n",
       "         [-0.765625 , -0.7890625, -0.8046875]],\n",
       "\n",
       "        ..., \n",
       "        [[-0.7890625, -0.8125   , -0.8203125],\n",
       "         [-0.78125  , -0.8046875, -0.8125   ],\n",
       "         [-0.765625 , -0.8046875, -0.8125   ],\n",
       "         ..., \n",
       "         [-0.7890625, -0.8125   , -0.8203125],\n",
       "         [-0.78125  , -0.8125   , -0.828125 ],\n",
       "         [-0.7734375, -0.8046875, -0.828125 ]],\n",
       "\n",
       "        [[-0.78125  , -0.8203125, -0.8203125],\n",
       "         [-0.7734375, -0.8125   , -0.8125   ],\n",
       "         [-0.7578125, -0.8046875, -0.8125   ],\n",
       "         ..., \n",
       "         [-0.7890625, -0.8125   , -0.8203125],\n",
       "         [-0.78125  , -0.8125   , -0.828125 ],\n",
       "         [-0.78125  , -0.8125   , -0.8359375]],\n",
       "\n",
       "        [[-0.7734375, -0.8203125, -0.8203125],\n",
       "         [-0.765625 , -0.8125   , -0.8125   ],\n",
       "         [-0.75     , -0.8125   , -0.8203125],\n",
       "         ..., \n",
       "         [-0.7890625, -0.8125   , -0.828125 ],\n",
       "         [-0.7890625, -0.8203125, -0.8359375],\n",
       "         [-0.796875 , -0.828125 , -0.84375  ]]],\n",
       "\n",
       "\n",
       "       [[[-0.78125  , -0.8125   , -0.8125   ],\n",
       "         [-0.796875 , -0.8203125, -0.8203125],\n",
       "         [-0.7890625, -0.8125   , -0.8125   ],\n",
       "         ..., \n",
       "         [-0.7578125, -0.78125  , -0.796875 ],\n",
       "         [-0.7578125, -0.78125  , -0.7890625],\n",
       "         [-0.75     , -0.78125  , -0.7890625]],\n",
       "\n",
       "        [[-0.7890625, -0.8125   , -0.8125   ],\n",
       "         [-0.7890625, -0.8125   , -0.8125   ],\n",
       "         [-0.78125  , -0.8046875, -0.8125   ],\n",
       "         ..., \n",
       "         [-0.7578125, -0.7890625, -0.8046875],\n",
       "         [-0.7578125, -0.7890625, -0.796875 ],\n",
       "         [-0.7421875, -0.7734375, -0.7890625]],\n",
       "\n",
       "        [[-0.796875 , -0.8125   , -0.8125   ],\n",
       "         [-0.796875 , -0.8125   , -0.8125   ],\n",
       "         [-0.7890625, -0.8125   , -0.8203125],\n",
       "         ..., \n",
       "         [-0.7578125, -0.796875 , -0.8046875],\n",
       "         [-0.7578125, -0.7890625, -0.796875 ],\n",
       "         [-0.7421875, -0.7734375, -0.7890625]],\n",
       "\n",
       "        ..., \n",
       "        [[-0.78125  , -0.8046875, -0.8203125],\n",
       "         [-0.765625 , -0.7890625, -0.8125   ],\n",
       "         [-0.765625 , -0.7890625, -0.8125   ],\n",
       "         ..., \n",
       "         [-0.7890625, -0.8125   , -0.828125 ],\n",
       "         [-0.7890625, -0.8125   , -0.828125 ],\n",
       "         [-0.78125  , -0.8125   , -0.828125 ]],\n",
       "\n",
       "        [[-0.7890625, -0.8125   , -0.828125 ],\n",
       "         [-0.7734375, -0.796875 , -0.8203125],\n",
       "         [-0.7578125, -0.796875 , -0.8125   ],\n",
       "         ..., \n",
       "         [-0.796875 , -0.8203125, -0.8359375],\n",
       "         [-0.7890625, -0.8125   , -0.828125 ],\n",
       "         [-0.78125  , -0.8046875, -0.8203125]],\n",
       "\n",
       "        [[-0.78125  , -0.8125   , -0.8203125],\n",
       "         [-0.78125  , -0.8125   , -0.828125 ],\n",
       "         [-0.7734375, -0.8125   , -0.828125 ],\n",
       "         ..., \n",
       "         [-0.7890625, -0.8203125, -0.828125 ],\n",
       "         [-0.7890625, -0.8125   , -0.8203125],\n",
       "         [-0.7734375, -0.796875 , -0.8046875]]],\n",
       "\n",
       "\n",
       "       [[[-0.7734375, -0.8046875, -0.8046875],\n",
       "         [-0.7734375, -0.796875 , -0.796875 ],\n",
       "         [-0.765625 , -0.7890625, -0.7890625],\n",
       "         ..., \n",
       "         [-0.7578125, -0.7890625, -0.8125   ],\n",
       "         [-0.7578125, -0.78125  , -0.8046875],\n",
       "         [-0.75     , -0.7734375, -0.7890625]],\n",
       "\n",
       "        [[-0.7890625, -0.8125   , -0.8125   ],\n",
       "         [-0.7890625, -0.8046875, -0.8046875],\n",
       "         [-0.78125  , -0.796875 , -0.796875 ],\n",
       "         ..., \n",
       "         [-0.7578125, -0.7890625, -0.8203125],\n",
       "         [-0.75     , -0.78125  , -0.8046875],\n",
       "         [-0.7421875, -0.765625 , -0.7890625]],\n",
       "\n",
       "        [[-0.7890625, -0.8125   , -0.8125   ],\n",
       "         [-0.78125  , -0.796875 , -0.796875 ],\n",
       "         [-0.7734375, -0.7890625, -0.7890625],\n",
       "         ..., \n",
       "         [-0.75     , -0.78125  , -0.8125   ],\n",
       "         [-0.75     , -0.78125  , -0.8125   ],\n",
       "         [-0.7421875, -0.7734375, -0.796875 ]],\n",
       "\n",
       "        ..., \n",
       "        [[-0.78125  , -0.796875 , -0.828125 ],\n",
       "         [-0.7734375, -0.796875 , -0.8359375],\n",
       "         [-0.7578125, -0.796875 , -0.828125 ],\n",
       "         ..., \n",
       "         [-0.7734375, -0.8125   , -0.8359375],\n",
       "         [-0.78125  , -0.8203125, -0.84375  ],\n",
       "         [-0.78125  , -0.8203125, -0.828125 ]],\n",
       "\n",
       "        [[-0.7890625, -0.796875 , -0.8203125],\n",
       "         [-0.78125  , -0.8046875, -0.8359375],\n",
       "         [-0.765625 , -0.8046875, -0.828125 ],\n",
       "         ..., \n",
       "         [-0.78125  , -0.8203125, -0.8359375],\n",
       "         [-0.7890625, -0.828125 , -0.84375  ],\n",
       "         [-0.78125  , -0.8125   , -0.828125 ]],\n",
       "\n",
       "        [[-0.7734375, -0.796875 , -0.8203125],\n",
       "         [-0.78125  , -0.8125   , -0.8359375],\n",
       "         [-0.7734375, -0.8125   , -0.8359375],\n",
       "         ..., \n",
       "         [-0.7734375, -0.8046875, -0.8203125],\n",
       "         [-0.78125  , -0.8125   , -0.828125 ],\n",
       "         [-0.765625 , -0.796875 , -0.8125   ]]],\n",
       "\n",
       "\n",
       "       ..., \n",
       "       [[[-0.6015625, -0.4765625, -0.328125 ],\n",
       "         [-0.5703125, -0.5390625, -0.4453125],\n",
       "         [-0.4140625, -0.3671875, -0.28125  ],\n",
       "         ..., \n",
       "         [ 0.953125 ,  0.9375   ,  0.8984375],\n",
       "         [ 0.6171875,  0.65625  ,  0.8203125],\n",
       "         [-0.0546875, -0.09375  ,  0.09375  ]],\n",
       "\n",
       "        [[-0.7265625, -0.671875 , -0.6171875],\n",
       "         [-0.625    , -0.6328125, -0.6015625],\n",
       "         [-0.2890625, -0.25     , -0.1171875],\n",
       "         ..., \n",
       "         [ 0.71875  ,  0.75     ,  0.765625 ],\n",
       "         [ 0.3203125,  0.3828125,  0.4609375],\n",
       "         [-0.34375  , -0.3203125, -0.21875  ]],\n",
       "\n",
       "        [[-0.7890625, -0.796875 , -0.7734375],\n",
       "         [-0.6796875, -0.703125 , -0.6953125],\n",
       "         [-0.5703125, -0.5      , -0.390625 ],\n",
       "         ..., \n",
       "         [-0.046875 ,  0.1171875,  0.25     ],\n",
       "         [-0.2421875, -0.1875   ,  0.0078125],\n",
       "         [-0.5390625, -0.5390625, -0.5625   ]],\n",
       "\n",
       "        ..., \n",
       "        [[-0.8125   , -0.8203125, -0.7890625],\n",
       "         [-0.8359375, -0.84375  , -0.7890625],\n",
       "         [-0.84375  , -0.8515625, -0.828125 ],\n",
       "         ..., \n",
       "         [-0.40625  , -0.3828125, -0.3515625],\n",
       "         [-0.578125 , -0.5      , -0.3984375],\n",
       "         [-0.6484375, -0.6015625, -0.4921875]],\n",
       "\n",
       "        [[-0.7578125, -0.7578125, -0.7421875],\n",
       "         [-0.828125 , -0.8203125, -0.7734375],\n",
       "         [-0.84375  , -0.859375 , -0.8359375],\n",
       "         ..., \n",
       "         [-0.484375 , -0.4765625, -0.34375  ],\n",
       "         [-0.5625   , -0.4921875, -0.421875 ],\n",
       "         [-0.6484375, -0.5703125, -0.4296875]],\n",
       "\n",
       "        [[-0.78125  , -0.78125  , -0.765625 ],\n",
       "         [-0.828125 , -0.8359375, -0.8046875],\n",
       "         [-0.8515625, -0.859375 , -0.8515625],\n",
       "         ..., \n",
       "         [-0.4765625, -0.5078125, -0.40625  ],\n",
       "         [-0.6953125, -0.6484375, -0.5703125],\n",
       "         [-0.75     , -0.7109375, -0.6328125]]],\n",
       "\n",
       "\n",
       "       [[[-0.359375 , -0.390625 , -0.25     ],\n",
       "         [-0.0625   , -0.015625 ,  0.15625  ],\n",
       "         [-0.125    , -0.0234375,  0.140625 ],\n",
       "         ..., \n",
       "         [ 0.4453125,  0.421875 ,  0.3828125],\n",
       "         [ 0.59375  ,  0.640625 ,  0.6796875],\n",
       "         [ 0.03125  , -0.109375 , -0.0546875]],\n",
       "\n",
       "        [[-0.421875 , -0.3984375, -0.2734375],\n",
       "         [ 0.3359375,  0.359375 ,  0.4453125],\n",
       "         [ 0.0703125,  0.28125  ,  0.4375   ],\n",
       "         ..., \n",
       "         [ 0.40625  ,  0.4140625,  0.4609375],\n",
       "         [ 0.546875 ,  0.5625   ,  0.6640625],\n",
       "         [-0.3828125, -0.3359375, -0.3359375]],\n",
       "\n",
       "        [[-0.578125 , -0.609375 , -0.5625   ],\n",
       "         [-0.21875  , -0.171875 , -0.078125 ],\n",
       "         [-0.0859375,  0.03125  ,  0.234375 ],\n",
       "         ..., \n",
       "         [ 0.2265625,  0.1953125,  0.25     ],\n",
       "         [ 0.375    ,  0.4296875,  0.5546875],\n",
       "         [-0.3125   , -0.375    , -0.359375 ]],\n",
       "\n",
       "        ..., \n",
       "        [[-0.828125 , -0.8359375, -0.828125 ],\n",
       "         [-0.84375  , -0.8515625, -0.8515625],\n",
       "         [-0.859375 , -0.875    , -0.8515625],\n",
       "         ..., \n",
       "         [-0.609375 , -0.609375 , -0.53125  ],\n",
       "         [-0.7109375, -0.6640625, -0.59375  ],\n",
       "         [-0.765625 , -0.6796875, -0.5390625]],\n",
       "\n",
       "        [[-0.859375 , -0.875    , -0.859375 ],\n",
       "         [-0.8515625, -0.8671875, -0.859375 ],\n",
       "         [-0.8515625, -0.859375 , -0.8359375],\n",
       "         ..., \n",
       "         [-0.71875  , -0.65625  , -0.53125  ],\n",
       "         [-0.7421875, -0.71875  , -0.625    ],\n",
       "         [-0.71875  , -0.6640625, -0.5234375]],\n",
       "\n",
       "        [[-0.859375 , -0.8671875, -0.84375  ],\n",
       "         [-0.8359375, -0.84375  , -0.8203125],\n",
       "         [-0.8125   , -0.828125 , -0.8046875],\n",
       "         ..., \n",
       "         [-0.75     , -0.734375 , -0.6796875],\n",
       "         [-0.6484375, -0.671875 , -0.625    ],\n",
       "         [-0.6796875, -0.6640625, -0.59375  ]]],\n",
       "\n",
       "\n",
       "       [[[-0.4609375, -0.3828125, -0.25     ],\n",
       "         [-0.8125   , -0.796875 , -0.78125  ],\n",
       "         [-0.6875   , -0.671875 , -0.6484375],\n",
       "         ..., \n",
       "         [ 0.7578125,  0.828125 ,  0.8515625],\n",
       "         [ 0.1796875,  0.2578125,  0.296875 ],\n",
       "         [ 0.28125  ,  0.265625 ,  0.3203125]],\n",
       "\n",
       "        [[-0.2265625, -0.140625 , -0.0234375],\n",
       "         [-0.71875  , -0.6796875, -0.6328125],\n",
       "         [-0.5078125, -0.5625   , -0.515625 ],\n",
       "         ..., \n",
       "         [ 0.5390625,  0.6875   ,  0.75     ],\n",
       "         [ 0.203125 ,  0.2734375,  0.3203125],\n",
       "         [ 0.28125  ,  0.2734375,  0.2421875]],\n",
       "\n",
       "        [[-0.1875   , -0.1640625, -0.1171875],\n",
       "         [-0.734375 , -0.7109375, -0.6875   ],\n",
       "         [-0.4375   , -0.453125 , -0.3984375],\n",
       "         ..., \n",
       "         [ 0.7421875,  0.8515625,  0.8359375],\n",
       "         [ 0.4140625,  0.5      ,  0.546875 ],\n",
       "         [ 0.296875 ,  0.3046875,  0.2421875]],\n",
       "\n",
       "        ..., \n",
       "        [[-0.8359375, -0.84375  , -0.8203125],\n",
       "         [-0.8203125, -0.8125   , -0.765625 ],\n",
       "         [-0.8515625, -0.84375  , -0.8125   ],\n",
       "         ..., \n",
       "         [-0.6484375, -0.6328125, -0.578125 ],\n",
       "         [-0.546875 , -0.515625 , -0.453125 ],\n",
       "         [-0.546875 , -0.453125 , -0.359375 ]],\n",
       "\n",
       "        [[-0.859375 , -0.8671875, -0.8359375],\n",
       "         [-0.8515625, -0.8515625, -0.8125   ],\n",
       "         [-0.859375 , -0.859375 , -0.8203125],\n",
       "         ..., \n",
       "         [-0.71875  , -0.71875  , -0.6875   ],\n",
       "         [-0.546875 , -0.5390625, -0.453125 ],\n",
       "         [-0.5234375, -0.4609375, -0.3671875]],\n",
       "\n",
       "        [[-0.8671875, -0.875    , -0.8515625],\n",
       "         [-0.875    , -0.8828125, -0.859375 ],\n",
       "         [-0.875    , -0.8828125, -0.859375 ],\n",
       "         ..., \n",
       "         [-0.6875   , -0.6875   , -0.65625  ],\n",
       "         [-0.5546875, -0.515625 , -0.4296875],\n",
       "         [-0.5546875, -0.46875  , -0.375    ]]]], dtype=float32)"
      ]
     },
     "execution_count": 12,
     "metadata": {},
     "output_type": "execute_result"
    }
   ],
   "source": [
    "X_train_normalized"
   ]
  },
  {
   "cell_type": "code",
   "execution_count": 13,
   "metadata": {},
   "outputs": [
    {
     "name": "stdout",
     "output_type": "stream",
     "text": [
      "(34799, 32, 32, 3)\n",
      "(12630, 32, 32, 3)\n",
      "(4410, 32, 32, 3)\n"
     ]
    }
   ],
   "source": [
    "print(X_train_normalized.shape)\n",
    "print(X_test_normalized.shape)\n",
    "print(X_valid_normalized.shape)"
   ]
  },
  {
   "cell_type": "markdown",
   "metadata": {},
   "source": [
    "### Model Architecture"
   ]
  },
  {
   "cell_type": "code",
   "execution_count": 18,
   "metadata": {
    "collapsed": true
   },
   "outputs": [],
   "source": [
    "### Define your architecture here.\n",
    "### Feel free to use as many code cells as needed.\n",
    "import tensorflow as tf\n",
    "\n",
    "epochs = 20\n",
    "batch_size = 128\n",
    "\n",
    "from tensorflow.contrib.layers import flatten\n",
    "\n",
    "def conv2d(x, W, b, strides=1):\n",
    "    x = tf.nn.conv2d(x, W, [1, strides, strides, 1], 'VALID')\n",
    "    x = tf.nn.bias_add(x, b)\n",
    "    return tf.nn.relu(x)\n",
    "\n",
    "def avepooling(x, k=2):\n",
    "    return tf.nn.avg_pool(x, [1, k, k, 1], [1, k, k, 1], 'VALID')\n",
    "\n",
    "def maxpooling(x, k=2):\n",
    "    return tf.nn.max_pool(x, [1, k, k, 1], [1, k, k, 1], 'VALID')\n",
    "    \n",
    "def fc(x, W, b):\n",
    "    return tf.matmul(x, W) + b\n",
    "    \n",
    "def lenet(x, dropout=0.5):\n",
    "    mu = 0\n",
    "    sigma = 0.1\n",
    "    \n",
    "    conv1_w = tf.Variable(tf.truncated_normal(shape=(5, 5, 3, 6), mean=mu, stddev=sigma), dtype=tf.float32)\n",
    "    conv1_b = tf.Variable(tf.zeros(shape=(6)), dtype=tf.float32)\n",
    "    conv1 = conv2d(x, conv1_w, conv1_b)\n",
    "    \n",
    "    conv1 = avepooling(conv1)\n",
    "    \n",
    "    conv2_w = tf.Variable(tf.truncated_normal(shape=(5, 5, 6, 16), mean=mu, stddev=sigma), dtype=tf.float32)\n",
    "    conv2_b = tf.Variable(tf.zeros(shape=(16)), dtype=tf.float32)\n",
    "    conv2 = conv2d(conv1, conv2_w, conv2_b)\n",
    "    \n",
    "    conv2 = avepooling(conv2)\n",
    "    \n",
    "    conv2 = flatten(conv2)\n",
    "#     print(conv2.get_shape())\n",
    "    \n",
    "    fc1_w = tf.Variable(tf.truncated_normal(shape=(5*5*16, 120), mean=mu, stddev=sigma), dtype=tf.float32)\n",
    "    fc1_b = tf.Variable(tf.zeros(120), dtype=tf.float32)\n",
    "    fc1 = fc(conv2, fc1_w, fc1_b)\n",
    "    fc1 = tf.nn.relu(fc1)\n",
    "    fc1 = tf.nn.dropout(fc1, dropout)\n",
    "    \n",
    "    fc2_w = tf.Variable(tf.truncated_normal(shape=(120, 84), mean=mu, stddev=sigma), dtype=tf.float32)\n",
    "    fc2_b = tf.Variable(tf.zeros(84), dtype=tf.float32)\n",
    "    fc2 = fc(fc1, fc2_w, fc2_b)\n",
    "    fc2 = tf.nn.relu(fc2)\n",
    "    fc2 = tf.nn.dropout(fc2, dropout)\n",
    "    \n",
    "    fc3_w = tf.Variable(tf.truncated_normal(shape=(84, 43), mean=mu, stddev=sigma), dtype=tf.float32)\n",
    "    fc3_b = tf.Variable(tf.zeros(43), dtype=tf.float32)\n",
    "    logits = fc(fc2, fc3_w, fc3_b)\n",
    "    \n",
    "    return logits\n",
    "    \n",
    "    "
   ]
  },
  {
   "cell_type": "markdown",
   "metadata": {},
   "source": [
    "### Train, Validate and Test the Model"
   ]
  },
  {
   "cell_type": "markdown",
   "metadata": {},
   "source": [
    "A validation set can be used to assess how well the model is performing. A low accuracy on the training and validation\n",
    "sets imply underfitting. A high accuracy on the training set but low accuracy on the validation set implies overfitting."
   ]
  },
  {
   "cell_type": "code",
   "execution_count": 19,
   "metadata": {
    "collapsed": true
   },
   "outputs": [],
   "source": [
    "### Train your model here.\n",
    "### Calculate and report the accuracy on the training and validation set.\n",
    "### Once a final model architecture is selected, \n",
    "### the accuracy on the test set should be calculated and reported as well.\n",
    "### Feel free to use as many code cells as needed.\n",
    "\n",
    "x = tf.placeholder(tf.float32, [None, 32, 32, 3])\n",
    "y = tf.placeholder(tf.int32, [None])\n",
    "y_one_hot = tf.one_hot(y, 43)\n",
    "\n",
    "prob_keep = tf.placeholder(tf.float32)\n",
    "\n",
    "learning_rate = 0.001\n",
    "\n",
    "logits = lenet(x, prob_keep)\n",
    "cross_entropy = tf.nn.softmax_cross_entropy_with_logits(labels=y_one_hot, logits=logits)\n",
    "cost = tf.reduce_mean(cross_entropy)\n",
    "optimizer = tf.train.AdamOptimizer(learning_rate=learning_rate).minimize(cost)\n",
    "\n",
    "correct_prediction = tf.cast(tf.equal(tf.argmax(logits, 1), tf.argmax(y_one_hot, 1)), tf.float32)\n",
    "accuracy = tf.reduce_mean(correct_prediction)\n",
    "\n",
    "def evaluate(X_data, y_data):\n",
    "    num_examples = X_data.shape[0]\n",
    "    total_accuracy = 0\n",
    "    sess = tf.get_default_session()\n",
    "    for offset in range(0, num_examples, batch_size):\n",
    "        batch_x, batch_y = X_data[offset:offset+batch_size], y_data[offset:offset+batch_size]\n",
    "        tmp_accuracy = sess.run(accuracy, feed_dict={x: batch_x, y: batch_y, prob_keep: 1.0})\n",
    "        total_accuracy += (tmp_accuracy * len(batch_x))\n",
    "        \n",
    "    return total_accuracy / num_examples"
   ]
  },
  {
   "cell_type": "code",
   "execution_count": null,
   "metadata": {
    "scrolled": true
   },
   "outputs": [
    {
     "name": "stdout",
     "output_type": "stream",
     "text": [
      "Training...\n",
      "\n",
      "Epoch   0, batch        272, cost     0.8670\n",
      "Epoch 1\n",
      "Validation accuracy = 0.67914\n",
      "Epoch   1, batch        272, cost     0.5654\n",
      "Epoch 2\n",
      "Validation accuracy = 0.81950\n",
      "Epoch   2, batch        272, cost     0.2187\n",
      "Epoch 3\n",
      "Validation accuracy = 0.85828\n",
      "Epoch   3, batch        272, cost     0.1648\n",
      "Epoch 4\n",
      "Validation accuracy = 0.87596\n",
      "Epoch   4, batch        272, cost     0.1129\n",
      "Epoch 5\n",
      "Validation accuracy = 0.87959\n",
      "Epoch   5, batch         36, cost     0.1522\r"
     ]
    }
   ],
   "source": [
    "# Train the Model\n",
    "from sklearn.utils import shuffle\n",
    "\n",
    "init = tf.global_variables_initializer()\n",
    "save_path = './traffic-sign.ckpt'\n",
    "\n",
    "with tf.Session() as sess:\n",
    "    sess.run(init)\n",
    "    num_examples = X_train_normalized.shape[0]\n",
    "    \n",
    "    print('Training...')\n",
    "    print()\n",
    "    for epoch in range(epochs):\n",
    "        X_data, y_data = shuffle(X_train_normalized, y_train, random_state=np.random.randint(0, 10000000, size=(1))[0])\n",
    "        total_batch = int(np.ceil(num_examples/batch_size))\n",
    "        \n",
    "        for offset in range(0, num_examples, batch_size):\n",
    "            batch_x, batch_y = X_data[offset:offset+batch_size], y_data[offset:offset+batch_size]\n",
    "            sess.run(optimizer, feed_dict={x: batch_x, y: batch_y, prob_keep: 0.75})\n",
    "            c = sess.run(cost, feed_dict={x: batch_x, y: batch_y, prob_keep: 1.0})\n",
    "            batch_index = int(offset/batch_size)+1\n",
    "            if batch_index % 1 == 0:\n",
    "                print('Epoch {:>3d}, batch {:>10d}, cost {:>10.4f}'.format(epoch, batch_index, c), flush=True, end='\\r')\n",
    "        \n",
    "        print()\n",
    "        validation_accuracy = evaluate(X_valid_normalized, y_valid)\n",
    "        print('Epoch {}'.format(epoch+1))\n",
    "        print('Validation accuracy = {:.5f}'.format(validation_accuracy))\n",
    "        \n",
    "        \n",
    "    tf.train.Saver().save(sess, save_path)"
   ]
  },
  {
   "cell_type": "code",
   "execution_count": null,
   "metadata": {
    "collapsed": true
   },
   "outputs": [],
   "source": []
  },
  {
   "cell_type": "markdown",
   "metadata": {},
   "source": [
    "---\n",
    "\n",
    "## Step 3: Test a Model on New Images\n",
    "\n",
    "To give yourself more insight into how your model is working, download at least five pictures of German traffic signs from the web and use your model to predict the traffic sign type.\n",
    "\n",
    "You may find `signnames.csv` useful as it contains mappings from the class id (integer) to the actual sign name."
   ]
  },
  {
   "cell_type": "markdown",
   "metadata": {},
   "source": [
    "### Load and Output the Images"
   ]
  },
  {
   "cell_type": "code",
   "execution_count": null,
   "metadata": {
    "collapsed": true
   },
   "outputs": [],
   "source": [
    "### Load the images and plot them here.\n",
    "### Feel free to use as many code cells as needed."
   ]
  },
  {
   "cell_type": "markdown",
   "metadata": {},
   "source": [
    "### Predict the Sign Type for Each Image"
   ]
  },
  {
   "cell_type": "code",
   "execution_count": null,
   "metadata": {
    "collapsed": true
   },
   "outputs": [],
   "source": [
    "### Run the predictions here and use the model to output the prediction for each image.\n",
    "### Make sure to pre-process the images with the same pre-processing pipeline used earlier.\n",
    "### Feel free to use as many code cells as needed."
   ]
  },
  {
   "cell_type": "markdown",
   "metadata": {},
   "source": [
    "### Analyze Performance"
   ]
  },
  {
   "cell_type": "code",
   "execution_count": null,
   "metadata": {
    "collapsed": true
   },
   "outputs": [],
   "source": [
    "### Calculate the accuracy for these 5 new images. \n",
    "### For example, if the model predicted 1 out of 5 signs correctly, it's 20% accurate on these new images."
   ]
  },
  {
   "cell_type": "markdown",
   "metadata": {},
   "source": [
    "### Output Top 5 Softmax Probabilities For Each Image Found on the Web"
   ]
  },
  {
   "cell_type": "markdown",
   "metadata": {},
   "source": [
    "For each of the new images, print out the model's softmax probabilities to show the **certainty** of the model's predictions (limit the output to the top 5 probabilities for each image). [`tf.nn.top_k`](https://www.tensorflow.org/versions/r0.12/api_docs/python/nn.html#top_k) could prove helpful here. \n",
    "\n",
    "The example below demonstrates how tf.nn.top_k can be used to find the top k predictions for each image.\n",
    "\n",
    "`tf.nn.top_k` will return the values and indices (class ids) of the top k predictions. So if k=3, for each sign, it'll return the 3 largest probabilities (out of a possible 43) and the correspoding class ids.\n",
    "\n",
    "Take this numpy array as an example. The values in the array represent predictions. The array contains softmax probabilities for five candidate images with six possible classes. `tf.nn.top_k` is used to choose the three classes with the highest probability:\n",
    "\n",
    "```\n",
    "# (5, 6) array\n",
    "a = np.array([[ 0.24879643,  0.07032244,  0.12641572,  0.34763842,  0.07893497,\n",
    "         0.12789202],\n",
    "       [ 0.28086119,  0.27569815,  0.08594638,  0.0178669 ,  0.18063401,\n",
    "         0.15899337],\n",
    "       [ 0.26076848,  0.23664738,  0.08020603,  0.07001922,  0.1134371 ,\n",
    "         0.23892179],\n",
    "       [ 0.11943333,  0.29198961,  0.02605103,  0.26234032,  0.1351348 ,\n",
    "         0.16505091],\n",
    "       [ 0.09561176,  0.34396535,  0.0643941 ,  0.16240774,  0.24206137,\n",
    "         0.09155967]])\n",
    "```\n",
    "\n",
    "Running it through `sess.run(tf.nn.top_k(tf.constant(a), k=3))` produces:\n",
    "\n",
    "```\n",
    "TopKV2(values=array([[ 0.34763842,  0.24879643,  0.12789202],\n",
    "       [ 0.28086119,  0.27569815,  0.18063401],\n",
    "       [ 0.26076848,  0.23892179,  0.23664738],\n",
    "       [ 0.29198961,  0.26234032,  0.16505091],\n",
    "       [ 0.34396535,  0.24206137,  0.16240774]]), indices=array([[3, 0, 5],\n",
    "       [0, 1, 4],\n",
    "       [0, 5, 1],\n",
    "       [1, 3, 5],\n",
    "       [1, 4, 3]], dtype=int32))\n",
    "```\n",
    "\n",
    "Looking just at the first row we get `[ 0.34763842,  0.24879643,  0.12789202]`, you can confirm these are the 3 largest probabilities in `a`. You'll also notice `[3, 0, 5]` are the corresponding indices."
   ]
  },
  {
   "cell_type": "code",
   "execution_count": null,
   "metadata": {
    "collapsed": true
   },
   "outputs": [],
   "source": [
    "### Print out the top five softmax probabilities for the predictions on the German traffic sign images found on the web. \n",
    "### Feel free to use as many code cells as needed."
   ]
  },
  {
   "cell_type": "markdown",
   "metadata": {},
   "source": [
    "### Project Writeup\n",
    "\n",
    "Once you have completed the code implementation, document your results in a project writeup using this [template](https://github.com/udacity/CarND-Traffic-Sign-Classifier-Project/blob/master/writeup_template.md) as a guide. The writeup can be in a markdown or pdf file. "
   ]
  },
  {
   "cell_type": "markdown",
   "metadata": {},
   "source": [
    "> **Note**: Once you have completed all of the code implementations and successfully answered each question above, you may finalize your work by exporting the iPython Notebook as an HTML document. You can do this by using the menu above and navigating to  \\n\",\n",
    "    \"**File -> Download as -> HTML (.html)**. Include the finished document along with this notebook as your submission."
   ]
  },
  {
   "cell_type": "markdown",
   "metadata": {},
   "source": [
    "---\n",
    "\n",
    "## Step 4 (Optional): Visualize the Neural Network's State with Test Images\n",
    "\n",
    " This Section is not required to complete but acts as an additional excersise for understaning the output of a neural network's weights. While neural networks can be a great learning device they are often referred to as a black box. We can understand what the weights of a neural network look like better by plotting their feature maps. After successfully training your neural network you can see what it's feature maps look like by plotting the output of the network's weight layers in response to a test stimuli image. From these plotted feature maps, it's possible to see what characteristics of an image the network finds interesting. For a sign, maybe the inner network feature maps react with high activation to the sign's boundary outline or to the contrast in the sign's painted symbol.\n",
    "\n",
    " Provided for you below is the function code that allows you to get the visualization output of any tensorflow weight layer you want. The inputs to the function should be a stimuli image, one used during training or a new one you provided, and then the tensorflow variable name that represents the layer's state during the training process, for instance if you wanted to see what the [LeNet lab's](https://classroom.udacity.com/nanodegrees/nd013/parts/fbf77062-5703-404e-b60c-95b78b2f3f9e/modules/6df7ae49-c61c-4bb2-a23e-6527e69209ec/lessons/601ae704-1035-4287-8b11-e2c2716217ad/concepts/d4aca031-508f-4e0b-b493-e7b706120f81) feature maps looked like for it's second convolutional layer you could enter conv2 as the tf_activation variable.\n",
    "\n",
    "For an example of what feature map outputs look like, check out NVIDIA's results in their paper [End-to-End Deep Learning for Self-Driving Cars](https://devblogs.nvidia.com/parallelforall/deep-learning-self-driving-cars/) in the section Visualization of internal CNN State. NVIDIA was able to show that their network's inner weights had high activations to road boundary lines by comparing feature maps from an image with a clear path to one without. Try experimenting with a similar test to show that your trained network's weights are looking for interesting features, whether it's looking at differences in feature maps from images with or without a sign, or even what feature maps look like in a trained network vs a completely untrained one on the same sign image.\n",
    "\n",
    "<figure>\n",
    " <img src=\"visualize_cnn.png\" width=\"380\" alt=\"Combined Image\" />\n",
    " <figcaption>\n",
    " <p></p> \n",
    " <p style=\"text-align: center;\"> Your output should look something like this (above)</p> \n",
    " </figcaption>\n",
    "</figure>\n",
    " <p></p> \n"
   ]
  },
  {
   "cell_type": "code",
   "execution_count": null,
   "metadata": {
    "collapsed": true
   },
   "outputs": [],
   "source": [
    "### Visualize your network's feature maps here.\n",
    "### Feel free to use as many code cells as needed.\n",
    "\n",
    "# image_input: the test image being fed into the network to produce the feature maps\n",
    "# tf_activation: should be a tf variable name used during your training procedure that represents the calculated state of a specific weight layer\n",
    "# activation_min/max: can be used to view the activation contrast in more detail, by default matplot sets min and max to the actual min and max values of the output\n",
    "# plt_num: used to plot out multiple different weight feature map sets on the same block, just extend the plt number for each new feature map entry\n",
    "\n",
    "def outputFeatureMap(image_input, tf_activation, activation_min=-1, activation_max=-1 ,plt_num=1):\n",
    "    # Here make sure to preprocess your image_input in a way your network expects\n",
    "    # with size, normalization, ect if needed\n",
    "    # image_input =\n",
    "    # Note: x should be the same name as your network's tensorflow data placeholder variable\n",
    "    # If you get an error tf_activation is not defined it may be having trouble accessing the variable from inside a function\n",
    "    activation = tf_activation.eval(session=sess,feed_dict={x : image_input})\n",
    "    featuremaps = activation.shape[3]\n",
    "    plt.figure(plt_num, figsize=(15,15))\n",
    "    for featuremap in range(featuremaps):\n",
    "        plt.subplot(6,8, featuremap+1) # sets the number of feature maps to show on each row and column\n",
    "        plt.title('FeatureMap ' + str(featuremap)) # displays the feature map number\n",
    "        if activation_min != -1 & activation_max != -1:\n",
    "            plt.imshow(activation[0,:,:, featuremap], interpolation=\"nearest\", vmin =activation_min, vmax=activation_max, cmap=\"gray\")\n",
    "        elif activation_max != -1:\n",
    "            plt.imshow(activation[0,:,:, featuremap], interpolation=\"nearest\", vmax=activation_max, cmap=\"gray\")\n",
    "        elif activation_min !=-1:\n",
    "            plt.imshow(activation[0,:,:, featuremap], interpolation=\"nearest\", vmin=activation_min, cmap=\"gray\")\n",
    "        else:\n",
    "            plt.imshow(activation[0,:,:, featuremap], interpolation=\"nearest\", cmap=\"gray\")"
   ]
  }
 ],
 "metadata": {
  "anaconda-cloud": {},
  "kernelspec": {
   "display_name": "Python 3",
   "language": "python",
   "name": "python3"
  },
  "language_info": {
   "codemirror_mode": {
    "name": "ipython",
    "version": 3
   },
   "file_extension": ".py",
   "mimetype": "text/x-python",
   "name": "python",
   "nbconvert_exporter": "python",
   "pygments_lexer": "ipython3",
   "version": "3.5.2"
  },
  "widgets": {
   "state": {},
   "version": "1.1.2"
  }
 },
 "nbformat": 4,
 "nbformat_minor": 1
}
